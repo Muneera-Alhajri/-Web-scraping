{
 "cells": [
  {
   "cell_type": "markdown",
   "metadata": {},
   "source": [
    "# <img src=\"http://imgur.com/1ZcRyrc.png\" style=\"float: left; margin: 20px; height: 55px\">\n",
    "\n",
    "# Project 3: Web scraping for Goodreads website\n",
    "\n"
   ]
  },
  {
   "cell_type": "markdown",
   "metadata": {},
   "source": [
    "Created by: Muneera Alhajri"
   ]
  },
  {
   "cell_type": "markdown",
   "metadata": {},
   "source": [
    "## context"
   ]
  },
  {
   "cell_type": "markdown",
   "metadata": {},
   "source": [
    "The reason for creating this dataset is the requirement of a good clean dataset of computer books. I had searched for datasets on books in Kaggle and I found out that while most of the datasets had a good amount of books listed, there were either major columns missing or grossly unclean data. I mean, you can't determine how good a book is just from a few text reviews. So I collected this data from the Goodreads website from the \"Computer\" category to help people who are li like this type of book."
   ]
  },
  {
   "cell_type": "markdown",
   "metadata": {},
   "source": [
    "### Link to the Goodreads kernel in Kaggle:"
   ]
  },
  {
   "cell_type": "markdown",
   "metadata": {},
   "source": [
    "https://www.kaggle.com/muneeralhajri/goodreadscomputerbooks"
   ]
  },
  {
   "cell_type": "markdown",
   "metadata": {},
   "source": [
    "## Step1 1: Start to download Good reads(Books of computer category) html page "
   ]
  },
  {
   "cell_type": "code",
   "execution_count": 3,
   "metadata": {},
   "outputs": [],
   "source": [
    "import requests\n",
    "import re\n",
    "import numpy as np\n",
    "import pandas as pd\n",
    "from bs4 import BeautifulSoup\n",
    "from time import sleep\n",
    "from selenium import webdriver\n",
    "from selenium.common.exceptions import NoSuchElementException\n",
    "from webdriver_manager.chrome import ChromeDriverManager\n",
    "import seaborn as sns\n"
   ]
  },
  {
   "cell_type": "code",
   "execution_count": 477,
   "metadata": {},
   "outputs": [
    {
     "name": "stderr",
     "output_type": "stream",
     "text": [
      "[WDM] - Current google-chrome version is 88.0.4324\n",
      "[WDM] - Get LATEST driver version for 88.0.4324\n"
     ]
    },
    {
     "name": "stdout",
     "output_type": "stream",
     "text": [
      " \n"
     ]
    },
    {
     "name": "stderr",
     "output_type": "stream",
     "text": [
      "[WDM] - Driver [/Users/muneeraalhajri/.wdm/drivers/chromedriver/mac64/88.0.4324.96/chromedriver] found in cache\n"
     ]
    }
   ],
   "source": [
    "# Step 1 : Download Html page \n",
    "driver = webdriver.Chrome(ChromeDriverManager().install())\n",
    "# request url\n",
    "driver.get('https://www.goodreads.com/search?page=1&q=computer&qid=nxNcEaU1tj&tab=books')\n",
    "sleep(5) # Delay execution for a given number of seconds to allow the page to be loaded.\n",
    "html = driver.page_source"
   ]
  },
  {
   "cell_type": "markdown",
   "metadata": {},
   "source": [
    "## step 2 :Start scraping the website by using beautifulsoup"
   ]
  },
  {
   "cell_type": "code",
   "execution_count": 478,
   "metadata": {},
   "outputs": [],
   "source": [
    "items= soup1.find_all('tr', attrs={'itemtype':'http://schema.org/Book'})"
   ]
  },
  {
   "cell_type": "code",
   "execution_count": 379,
   "metadata": {},
   "outputs": [],
   "source": [
    "#Define the book details lists\n",
    "book_name=[]\n",
    "authors=[]\n",
    "ratings_count=[]\n",
    "Avgrating=[]\n",
    "published=[]\n",
    "edition=[]\n",
    "pages=[]\n",
    "Language=[]\n",
    "reviews=[]"
   ]
  },
  {
   "cell_type": "code",
   "execution_count": 445,
   "metadata": {},
   "outputs": [],
   "source": [
    "#This function will use a loop to collect all books information in a page\n",
    "def fun():\n",
    "    for i in range(0,len(items)):\n",
    "        \n",
    "#Book Name\n",
    "        try:\n",
    "            title=items[i].find('a',attrs={'class':'bookTitle'}).text\n",
    "            title=(re.sub(r'[\\n]','',title))\n",
    "            book_name.append(title)\n",
    "        \n",
    "        except:\n",
    "            book_name.append(\"none\")\n",
    "            \n",
    "#Authors names\n",
    "        try:\n",
    "            author_name=items[i].find('div',attrs={'class':'authorName__container'}).text\n",
    "            authors.append((re.sub(r'[\\n]','',author_name)))\n",
    "        except:\n",
    "            authors.append(\"none\")\n",
    "            \n",
    "# Rating count\n",
    "        try:\n",
    "            ratings=items[i].find('span',attrs={'class':'minirating'}).text\n",
    "            ratings_count.append(ratings.split()[-2])\n",
    "        except:\n",
    "            ratings_count.append(\"-\")  \n",
    "            \n",
    "            \n",
    "# Average rating \n",
    "        try:\n",
    "            rating=items[i].find('span',attrs={'class':'minirating'}).text\n",
    "            Avgrating.append(rating[0:6])\n",
    "        except:\n",
    "            Avgrating.append(\"-\") \n",
    "            \n",
    "#Published \n",
    "        try:\n",
    "            publish=items[i].find('span',attrs={'class':'greyText smallText uitext'}).text\n",
    "            publish=((re.sub(r'[\\n ]','',publish)))\n",
    "            published.append(re.search(r'(\\d{4})',publish).group(1))\n",
    "        except:\n",
    "            published.append(\"-\") \n",
    "            \n",
    "#Published \n",
    "        try:\n",
    "            edition_no=items[i].find('a',attrs={'class':'greyText'}).text\n",
    "            edition.append(re.search(r'(\\d+)',edition_no[0:3]).group(1))\n",
    "        except:\n",
    "            edition.append(\"-\") \n",
    "        \n",
    "#--------------------------------------------------------------------------------------\n",
    "\n",
    "# click and open Book page\n",
    "        driver.find_element_by_link_text(title).click()\n",
    "        sleep(5)\n",
    "        html = driver.page_source # now this has new page\n",
    "        soup2 = BeautifulSoup(html, 'html.parser')\n",
    "        item2=soup2.find('div', attrs={'class':'last col stacked'})\n",
    "        \n",
    "#Number of pages\n",
    "        try:\n",
    "            page_no=item2.find('span',attrs={'itemprop':'numberOfPages'}).text\n",
    "            pages.append(re.search(r'(\\d+)',page_no).group(1))\n",
    "        except:\n",
    "            pages.append(\"-\") \n",
    "#Book language\n",
    "\n",
    "        try:\n",
    "            book_language=item2.find('div',attrs={'itemprop':'inLanguage'}).text\n",
    "            if book_language== \"\":\n",
    "                Language.append(\"-\")\n",
    "            else:\n",
    "                Language.append(book_language)\n",
    "        except:\n",
    "            Language.append(\"-\") \n",
    "            \n",
    "#Book reviews\n",
    "\n",
    "        try:\n",
    "            book_reviews=item2.find('meta',attrs={'itemprop':'reviewCount'})\n",
    "            reviews.append(book_reviews[\"content\"])\n",
    "        except:\n",
    "            reviews.append(\"-\") \n",
    "        \n",
    "        driver.back()\n"
   ]
  },
  {
   "cell_type": "code",
   "execution_count": null,
   "metadata": {},
   "outputs": [],
   "source": [
    "#This loop will visit each page and save the current url then call fun Function \n",
    "for i in range(1,21):\n",
    "        sleep(5) # Delay execution for a given number of seconds to allow the page to be loaded.\n",
    "        html = driver.page_source\n",
    "        soup1 = BeautifulSoup(html, 'html')\n",
    "        items= soup1.find_all('tr', attrs={'itemtype':'http://schema.org/Book'})\n",
    "        fun()\n",
    "        driver.find_element_by_link_text(\"next »\").click()"
   ]
  },
  {
   "cell_type": "markdown",
   "metadata": {},
   "source": [
    "### Save the collected data in the CSV file"
   ]
  },
  {
   "cell_type": "code",
   "execution_count": null,
   "metadata": {},
   "outputs": [],
   "source": [
    "df=pd.DataFrame({'book_Title':book_name,'Author_Name':authors,'ratings_count':ratings_count,'Avg_Rating':Avgrating,'Publish_year':published,'Edition':edition,'Pages_no':pages,'Book_language':Language,'Reviews':reviews})"
   ]
  },
  {
   "cell_type": "code",
   "execution_count": 497,
   "metadata": {},
   "outputs": [],
   "source": [
    "#Add name for the index column\n",
    "df.index.name='Book_Id'"
   ]
  },
  {
   "cell_type": "code",
   "execution_count": 500,
   "metadata": {},
   "outputs": [],
   "source": [
    "df.to_csv('Book_Dataset.csv')"
   ]
  },
  {
   "cell_type": "markdown",
   "metadata": {},
   "source": [
    "### Import data"
   ]
  },
  {
   "cell_type": "code",
   "execution_count": 4,
   "metadata": {},
   "outputs": [],
   "source": [
    "data= pd.read_csv('./Book_Dataset.csv')"
   ]
  },
  {
   "cell_type": "markdown",
   "metadata": {},
   "source": [
    "### Datasets Description"
   ]
  },
  {
   "cell_type": "markdown",
   "metadata": {},
   "source": [
    "[Data Source] ([https://www.goodreads.com/book])\n",
    "The source of this data from good reads website"
   ]
  },
  {
   "cell_type": "markdown",
   "metadata": {},
   "source": [
    "**Data Dictionary**\n",
    "\n",
    "| Variable |\tDescription  |\n",
    "|----------|-----------------|\n",
    "| Book title |The title of the book|\n",
    "| Author name  | name of who write the book|\n",
    "| ratings count  | how many rating the book got|\n",
    "| average ratings  |the average of the rating|\n",
    "| published year  |the year when the book published|\n",
    "| edition  | the latest number of edition|\n",
    "| pages number  |\thow many pages the book contain|\n",
    "| book language  |language of the book|\n",
    "| number of reviews  |how many people review the book|\n"
   ]
  },
  {
   "cell_type": "markdown",
   "metadata": {},
   "source": [
    "### Data Cleaning and EDA"
   ]
  },
  {
   "cell_type": "code",
   "execution_count": 595,
   "metadata": {},
   "outputs": [
    {
     "data": {
      "text/html": [
       "<div>\n",
       "<style scoped>\n",
       "    .dataframe tbody tr th:only-of-type {\n",
       "        vertical-align: middle;\n",
       "    }\n",
       "\n",
       "    .dataframe tbody tr th {\n",
       "        vertical-align: top;\n",
       "    }\n",
       "\n",
       "    .dataframe thead th {\n",
       "        text-align: right;\n",
       "    }\n",
       "</style>\n",
       "<table border=\"1\" class=\"dataframe\">\n",
       "  <thead>\n",
       "    <tr style=\"text-align: right;\">\n",
       "      <th></th>\n",
       "      <th>Book_Id</th>\n",
       "      <th>book_Title</th>\n",
       "      <th>Author_Name</th>\n",
       "      <th>ratings_count</th>\n",
       "      <th>Avg_Rating</th>\n",
       "      <th>Publish_year</th>\n",
       "      <th>Edition</th>\n",
       "      <th>Pages_no</th>\n",
       "      <th>Book_language</th>\n",
       "      <th>Reviews</th>\n",
       "    </tr>\n",
       "  </thead>\n",
       "  <tbody>\n",
       "    <tr>\n",
       "      <th>0</th>\n",
       "      <td>0</td>\n",
       "      <td>Algorithms to Live By: The Computer Science of...</td>\n",
       "      <td>Brian Christian</td>\n",
       "      <td>20493.0</td>\n",
       "      <td>4.14</td>\n",
       "      <td>2016</td>\n",
       "      <td>46</td>\n",
       "      <td>368</td>\n",
       "      <td>English</td>\n",
       "      <td>1962</td>\n",
       "    </tr>\n",
       "    <tr>\n",
       "      <th>1</th>\n",
       "      <td>1</td>\n",
       "      <td>iWoz: Computer Geek to Cult Icon: How I Invent...</td>\n",
       "      <td>Steve Wozniak</td>\n",
       "      <td>16529.0</td>\n",
       "      <td>3.81</td>\n",
       "      <td>2006</td>\n",
       "      <td>37</td>\n",
       "      <td>313</td>\n",
       "      <td>English</td>\n",
       "      <td>794</td>\n",
       "    </tr>\n",
       "    <tr>\n",
       "      <th>2</th>\n",
       "      <td>2</td>\n",
       "      <td>Code: The Hidden Language of Computer Hardware...</td>\n",
       "      <td>Charles Petzold</td>\n",
       "      <td>7052.0</td>\n",
       "      <td>4.40</td>\n",
       "      <td>1999</td>\n",
       "      <td>21</td>\n",
       "      <td>400</td>\n",
       "      <td>English</td>\n",
       "      <td>575</td>\n",
       "    </tr>\n",
       "    <tr>\n",
       "      <th>3</th>\n",
       "      <td>3</td>\n",
       "      <td>The Cuckoo's Egg: Tracking a Spy Through the M...</td>\n",
       "      <td>Clifford Stoll</td>\n",
       "      <td>10386.0</td>\n",
       "      <td>4.24</td>\n",
       "      <td>1989</td>\n",
       "      <td>28</td>\n",
       "      <td>399</td>\n",
       "      <td>English</td>\n",
       "      <td>839</td>\n",
       "    </tr>\n",
       "    <tr>\n",
       "      <th>4</th>\n",
       "      <td>4</td>\n",
       "      <td>Hackers: Heroes of the Computer Revolution</td>\n",
       "      <td>Steven Levy</td>\n",
       "      <td>7207.0</td>\n",
       "      <td>4.14</td>\n",
       "      <td>1984</td>\n",
       "      <td>4</td>\n",
       "      <td>464</td>\n",
       "      <td>English</td>\n",
       "      <td>416</td>\n",
       "    </tr>\n",
       "  </tbody>\n",
       "</table>\n",
       "</div>"
      ],
      "text/plain": [
       "   Book_Id                                         book_Title  \\\n",
       "0        0  Algorithms to Live By: The Computer Science of...   \n",
       "1        1  iWoz: Computer Geek to Cult Icon: How I Invent...   \n",
       "2        2  Code: The Hidden Language of Computer Hardware...   \n",
       "3        3  The Cuckoo's Egg: Tracking a Spy Through the M...   \n",
       "4        4         Hackers: Heroes of the Computer Revolution   \n",
       "\n",
       "        Author_Name  ratings_count  Avg_Rating  Publish_year  Edition  \\\n",
       "0  Brian Christian         20493.0        4.14          2016       46   \n",
       "1    Steve Wozniak         16529.0        3.81          2006       37   \n",
       "2   Charles Petzold         7052.0        4.40          1999       21   \n",
       "3    Clifford Stoll        10386.0        4.24          1989       28   \n",
       "4      Steven Levy          7207.0        4.14          1984        4   \n",
       "\n",
       "   Pages_no Book_language  Reviews  \n",
       "0       368       English     1962  \n",
       "1       313       English      794  \n",
       "2       400       English      575  \n",
       "3       399       English      839  \n",
       "4       464       English      416  "
      ]
     },
     "execution_count": 595,
     "metadata": {},
     "output_type": "execute_result"
    }
   ],
   "source": [
    "data.head()"
   ]
  },
  {
   "cell_type": "code",
   "execution_count": 594,
   "metadata": {},
   "outputs": [
    {
     "data": {
      "text/plain": [
       "(1234, 10)"
      ]
     },
     "execution_count": 594,
     "metadata": {},
     "output_type": "execute_result"
    }
   ],
   "source": [
    "data.shape"
   ]
  },
  {
   "cell_type": "code",
   "execution_count": 590,
   "metadata": {},
   "outputs": [
    {
     "name": "stdout",
     "output_type": "stream",
     "text": [
      "<class 'pandas.core.frame.DataFrame'>\n",
      "RangeIndex: 1234 entries, 0 to 1233\n",
      "Data columns (total 10 columns):\n",
      " #   Column         Non-Null Count  Dtype  \n",
      "---  ------         --------------  -----  \n",
      " 0   Book_Id        1234 non-null   int64  \n",
      " 1   book_Title     1234 non-null   object \n",
      " 2   Author_Name    1234 non-null   object \n",
      " 3   ratings_count  1234 non-null   float64\n",
      " 4   Avg_Rating     1234 non-null   float64\n",
      " 5   Publish_year   1234 non-null   int64  \n",
      " 6   Edition        1234 non-null   int64  \n",
      " 7   Pages_no       1234 non-null   int64  \n",
      " 8   Book_language  1234 non-null   object \n",
      " 9   Reviews        1234 non-null   int64  \n",
      "dtypes: float64(2), int64(5), object(3)\n",
      "memory usage: 96.5+ KB\n"
     ]
    }
   ],
   "source": [
    "data.info()"
   ]
  },
  {
   "cell_type": "markdown",
   "metadata": {},
   "source": [
    "#### Filling missing values"
   ]
  },
  {
   "cell_type": "code",
   "execution_count": 584,
   "metadata": {},
   "outputs": [
    {
     "data": {
      "text/plain": [
       "Book_Id          0\n",
       "book_Title       0\n",
       "Author_Name      0\n",
       "ratings_count    0\n",
       "Avg_Rating       0\n",
       "Publish_year     0\n",
       "Edition          0\n",
       "Pages_no         0\n",
       "Book_language    0\n",
       "Reviews          0\n",
       "dtype: int64"
      ]
     },
     "execution_count": 584,
     "metadata": {},
     "output_type": "execute_result"
    }
   ],
   "source": [
    "#No missing values in this data\n",
    "data.isna().sum()\n"
   ]
  },
  {
   "cell_type": "markdown",
   "metadata": {},
   "source": [
    "#### Check for column values"
   ]
  },
  {
   "cell_type": "code",
   "execution_count": null,
   "metadata": {},
   "outputs": [],
   "source": [
    "#In language column there are 4 languages"
   ]
  },
  {
   "cell_type": "code",
   "execution_count": 591,
   "metadata": {},
   "outputs": [
    {
     "data": {
      "text/plain": [
       "English    1225\n",
       "Italian       5\n",
       "German        3\n",
       "Tamil         1\n",
       "Name: Book_language, dtype: int64"
      ]
     },
     "execution_count": 591,
     "metadata": {},
     "output_type": "execute_result"
    }
   ],
   "source": [
    "data.Book_language.value_counts()"
   ]
  },
  {
   "cell_type": "code",
   "execution_count": 592,
   "metadata": {},
   "outputs": [
    {
     "data": {
      "text/plain": [
       "Donald Ervin Knuth           18\n",
       "Gary B. Shelly               13\n",
       "Sumita Arora                  8\n",
       "June Jamrich Parsons          7\n",
       "Wallace Wang                  5\n",
       "                             ..\n",
       "Charles Eames                 1\n",
       "Christopher Finch             1\n",
       "N. Nissanke                   1\n",
       "Hesham El  Rewini             1\n",
       "Jonathan Wolpaw (Editor)      1\n",
       "Name: Author_Name, Length: 987, dtype: int64"
      ]
     },
     "execution_count": 592,
     "metadata": {},
     "output_type": "execute_result"
    }
   ],
   "source": [
    "#Author's names\n",
    "data.Author_Name.value_counts()"
   ]
  },
  {
   "cell_type": "code",
   "execution_count": 596,
   "metadata": {},
   "outputs": [
    {
     "data": {
      "text/plain": [
       "4.00    74\n",
       "3.67    30\n",
       "3.88    26\n",
       "4.50    23\n",
       "3.83    19\n",
       "        ..\n",
       "2.71     1\n",
       "1.60     1\n",
       "4.70     1\n",
       "4.49     1\n",
       "4.72     1\n",
       "Name: Avg_Rating, Length: 186, dtype: int64"
      ]
     },
     "execution_count": 596,
     "metadata": {},
     "output_type": "execute_result"
    }
   ],
   "source": [
    "#Number of books in each average rate \n",
    "data.Avg_Rating.value_counts()"
   ]
  },
  {
   "cell_type": "markdown",
   "metadata": {},
   "source": [
    "### Data Visualization"
   ]
  },
  {
   "cell_type": "code",
   "execution_count": 599,
   "metadata": {},
   "outputs": [
    {
     "data": {
      "image/png": "[encoded data removed]",
      "text/plain": [
       "<Figure size 432x288 with 1 Axes>"
      ]
     },
     "metadata": {
      "needs_background": "light"
     },
     "output_type": "display_data"
    }
   ],
   "source": [
    "sns.scatterplot(x='Publish_year',y='Avg_Rating',data=data);"
   ]
  },
  {
   "cell_type": "markdown",
   "metadata": {},
   "source": [
    "the Books which are published in recent year have a high average rate"
   ]
  },
  {
   "cell_type": "code",
   "execution_count": 602,
   "metadata": {},
   "outputs": [
    {
     "data": {
      "image/png": "[encoded data removed]",
      "text/plain": [
       "<Figure size 432x288 with 1 Axes>"
      ]
     },
     "metadata": {
      "needs_background": "light"
     },
     "output_type": "display_data"
    }
   ],
   "source": [
    "sns.barplot(x='Book_language',y='Reviews',data=data);"
   ]
  }
 ],
 "metadata": {
  "kernelspec": {
   "display_name": "Python 3",
   "language": "python",
   "name": "python3"
  },
  "language_info": {
   "codemirror_mode": {
    "name": "ipython",
    "version": 3
   },
   "file_extension": ".py",
   "mimetype": "text/x-python",
   "name": "python",
   "nbconvert_exporter": "python",
   "pygments_lexer": "ipython3",
   "version": "3.8.5"
  }
 },
 "nbformat": 4,
 "nbformat_minor": 2
}
